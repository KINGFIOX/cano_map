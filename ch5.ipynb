{
 "cells": [
  {
   "cell_type": "code",
   "execution_count": 1,
   "id": "initial_id",
   "metadata": {
    "ExecuteTime": {
     "end_time": "2023-10-14T02:19:40.933824Z",
     "start_time": "2023-10-14T02:19:40.929690Z"
    },
    "collapsed": true
   },
   "outputs": [],
   "source": [
    "from cano import logic_expr\n",
    "import sympy"
   ]
  },
  {
   "cell_type": "code",
   "execution_count": 2,
   "id": "2a11c28a6a9a58c7",
   "metadata": {
    "ExecuteTime": {
     "end_time": "2023-10-14T02:22:54.363520Z",
     "start_time": "2023-10-14T02:22:54.358804Z"
    },
    "collapsed": false
   },
   "outputs": [
    {
     "name": "stdout",
     "output_type": "stream",
     "text": [
      "cd     00     01     11     10\n",
      "ab                            \n",
      "00   True  False   True   True\n",
      "01  False   True   True  False\n",
      "11  False  False   True   True\n",
      "10   True  False  False   True\n"
     ]
    }
   ],
   "source": [
    "a, b, c, d = sympy.symbols('a,b,c,d')\n",
    "expr = ~b & ~c & ~d | b & c & d | a & c & ~d | ~a & ~b & c | ~a & b & ~c & d\n",
    "expr = logic_expr(expr)\n",
    "expr.show_cano()"
   ]
  },
  {
   "cell_type": "code",
   "execution_count": null,
   "id": "360102f39b7a7cc4",
   "metadata": {
    "collapsed": false
   },
   "outputs": [],
   "source": [
    "v_arr = list(sympy.symbols(\"a,b,c,d\"))\n",
    "min_term = [0, 2, 5, 6]\n",
    "min_term = expr = sympy.logic.boolalg.bool_minterm(\n",
    "    v_arr,\n",
    ")"
   ]
  },
  {
   "cell_type": "code",
   "execution_count": null,
   "id": "d7d9b88582eccb29",
   "metadata": {
    "collapsed": false
   },
   "outputs": [],
   "source": []
  },
  {
   "cell_type": "code",
   "execution_count": null,
   "id": "fa05b4c8530ef4c2",
   "metadata": {
    "collapsed": false
   },
   "outputs": [],
   "source": []
  },
  {
   "cell_type": "code",
   "execution_count": null,
   "id": "c7d6e081b459613e",
   "metadata": {
    "collapsed": false
   },
   "outputs": [],
   "source": []
  },
  {
   "cell_type": "code",
   "execution_count": null,
   "id": "60d09ea211e3325",
   "metadata": {
    "collapsed": false
   },
   "outputs": [],
   "source": []
  },
  {
   "cell_type": "code",
   "execution_count": null,
   "id": "72fb679da21623d1",
   "metadata": {
    "collapsed": false
   },
   "outputs": [],
   "source": []
  }
 ],
 "metadata": {
  "kernelspec": {
   "display_name": "Python 3",
   "language": "python",
   "name": "python3"
  },
  "language_info": {
   "codemirror_mode": {
    "name": "ipython",
    "version": 3
   },
   "file_extension": ".py",
   "mimetype": "text/x-python",
   "name": "python",
   "nbconvert_exporter": "python",
   "pygments_lexer": "ipython3",
   "version": "3.11.4"
  }
 },
 "nbformat": 4,
 "nbformat_minor": 5
}
