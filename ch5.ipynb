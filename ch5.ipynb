{
 "cells": [
  {
   "cell_type": "code",
   "execution_count": 1,
   "id": "initial_id",
   "metadata": {
    "ExecuteTime": {
     "end_time": "2023-10-14T02:19:40.933824Z",
     "start_time": "2023-10-14T02:19:40.929690Z"
    },
    "collapsed": true
   },
   "outputs": [],
   "source": [
    "from cano import logic_expr\n",
    "import sympy"
   ]
  },
  {
   "cell_type": "code",
   "execution_count": 2,
   "id": "2a11c28a6a9a58c7",
   "metadata": {
    "ExecuteTime": {
     "end_time": "2023-10-14T02:22:54.363520Z",
     "start_time": "2023-10-14T02:22:54.358804Z"
    },
    "collapsed": false
   },
   "outputs": [
    {
     "name": "stdout",
     "output_type": "stream",
     "text": [
      "cd     00     01     11     10\n",
      "ab                            \n",
      "00   True  False   True   True\n",
      "01  False   True   True  False\n",
      "11  False  False   True   True\n",
      "10   True  False  False   True\n"
     ]
    }
   ],
   "source": [
    "a, b, c, d = sympy.symbols('a,b,c,d')\n",
    "expr = ~b & ~c & ~d | b & c & d | a & c & ~d | ~a & ~b & c | ~a & b & ~c & d\n",
    "expr = logic_expr(expr)\n",
    "expr.show_cano()"
   ]
  },
  {
   "cell_type": "code",
   "execution_count": 8,
   "id": "360102f39b7a7cc4",
   "metadata": {
    "collapsed": false
   },
   "outputs": [
    {
     "data": {
      "text/html": [
       "<div>\n",
       "<style scoped>\n",
       "    .dataframe tbody tr th:only-of-type {\n",
       "        vertical-align: middle;\n",
       "    }\n",
       "\n",
       "    .dataframe tbody tr th {\n",
       "        vertical-align: top;\n",
       "    }\n",
       "\n",
       "    .dataframe thead th {\n",
       "        text-align: right;\n",
       "    }\n",
       "</style>\n",
       "<table border=\"1\" class=\"dataframe\">\n",
       "  <thead>\n",
       "    <tr style=\"text-align: right;\">\n",
       "      <th>cd</th>\n",
       "      <th>00</th>\n",
       "      <th>01</th>\n",
       "      <th>11</th>\n",
       "      <th>10</th>\n",
       "    </tr>\n",
       "    <tr>\n",
       "      <th>ab</th>\n",
       "      <th></th>\n",
       "      <th></th>\n",
       "      <th></th>\n",
       "      <th></th>\n",
       "    </tr>\n",
       "  </thead>\n",
       "  <tbody>\n",
       "    <tr>\n",
       "      <th>00</th>\n",
       "      <td>True</td>\n",
       "      <td>False</td>\n",
       "      <td>False</td>\n",
       "      <td>True</td>\n",
       "    </tr>\n",
       "    <tr>\n",
       "      <th>01</th>\n",
       "      <td>False</td>\n",
       "      <td>True</td>\n",
       "      <td>False</td>\n",
       "      <td>True</td>\n",
       "    </tr>\n",
       "    <tr>\n",
       "      <th>11</th>\n",
       "      <td>False</td>\n",
       "      <td>False</td>\n",
       "      <td>False</td>\n",
       "      <td>False</td>\n",
       "    </tr>\n",
       "    <tr>\n",
       "      <th>10</th>\n",
       "      <td>False</td>\n",
       "      <td>False</td>\n",
       "      <td>False</td>\n",
       "      <td>False</td>\n",
       "    </tr>\n",
       "  </tbody>\n",
       "</table>\n",
       "</div>"
      ],
      "text/plain": [
       "cd     00     01     11     10\n",
       "ab                            \n",
       "00   True  False  False   True\n",
       "01  False   True  False   True\n",
       "11  False  False  False  False\n",
       "10  False  False  False  False"
      ]
     },
     "execution_count": 8,
     "metadata": {},
     "output_type": "execute_result"
    }
   ],
   "source": [
    "v_arr = list(sympy.symbols(\"a,b,c,d\"))\n",
    "min_term = [0, 2, 5, 6]\n",
    "min_term = expr = sympy.logic.boolalg.SOPform(\n",
    "    v_arr, min_term\n",
    ")\n",
    "min_term = logic_expr(min_term)\n",
    "min_term.m_map.df"
   ]
  },
  {
   "cell_type": "code",
   "execution_count": 9,
   "id": "33882932",
   "metadata": {},
   "outputs": [
    {
     "data": {
      "text/html": [
       "<div>\n",
       "<style scoped>\n",
       "    .dataframe tbody tr th:only-of-type {\n",
       "        vertical-align: middle;\n",
       "    }\n",
       "\n",
       "    .dataframe tbody tr th {\n",
       "        vertical-align: top;\n",
       "    }\n",
       "\n",
       "    .dataframe thead th {\n",
       "        text-align: right;\n",
       "    }\n",
       "</style>\n",
       "<table border=\"1\" class=\"dataframe\">\n",
       "  <thead>\n",
       "    <tr style=\"text-align: right;\">\n",
       "      <th>cde</th>\n",
       "      <th>000</th>\n",
       "      <th>001</th>\n",
       "      <th>011</th>\n",
       "      <th>010</th>\n",
       "      <th>110</th>\n",
       "      <th>111</th>\n",
       "      <th>101</th>\n",
       "      <th>100</th>\n",
       "    </tr>\n",
       "    <tr>\n",
       "      <th>ab</th>\n",
       "      <th></th>\n",
       "      <th></th>\n",
       "      <th></th>\n",
       "      <th></th>\n",
       "      <th></th>\n",
       "      <th></th>\n",
       "      <th></th>\n",
       "      <th></th>\n",
       "    </tr>\n",
       "  </thead>\n",
       "  <tbody>\n",
       "    <tr>\n",
       "      <th>00</th>\n",
       "      <td>True</td>\n",
       "      <td>True</td>\n",
       "      <td>False</td>\n",
       "      <td>True</td>\n",
       "      <td>True</td>\n",
       "      <td>True</td>\n",
       "      <td>False</td>\n",
       "      <td>False</td>\n",
       "    </tr>\n",
       "    <tr>\n",
       "      <th>01</th>\n",
       "      <td>False</td>\n",
       "      <td>True</td>\n",
       "      <td>False</td>\n",
       "      <td>True</td>\n",
       "      <td>False</td>\n",
       "      <td>True</td>\n",
       "      <td>False</td>\n",
       "      <td>False</td>\n",
       "    </tr>\n",
       "    <tr>\n",
       "      <th>11</th>\n",
       "      <td>False</td>\n",
       "      <td>False</td>\n",
       "      <td>True</td>\n",
       "      <td>False</td>\n",
       "      <td>True</td>\n",
       "      <td>False</td>\n",
       "      <td>False</td>\n",
       "      <td>False</td>\n",
       "    </tr>\n",
       "    <tr>\n",
       "      <th>10</th>\n",
       "      <td>True</td>\n",
       "      <td>False</td>\n",
       "      <td>False</td>\n",
       "      <td>True</td>\n",
       "      <td>False</td>\n",
       "      <td>False</td>\n",
       "      <td>True</td>\n",
       "      <td>True</td>\n",
       "    </tr>\n",
       "  </tbody>\n",
       "</table>\n",
       "</div>"
      ],
      "text/plain": [
       "cde    000    001    011    010    110    111    101    100\n",
       "ab                                                         \n",
       "00    True   True  False   True   True   True  False  False\n",
       "01   False   True  False   True  False   True  False  False\n",
       "11   False  False   True  False   True  False  False  False\n",
       "10    True  False  False   True  False  False   True   True"
      ]
     },
     "execution_count": 9,
     "metadata": {},
     "output_type": "execute_result"
    }
   ],
   "source": [
    "v_arr = list(sympy.symbols(\"a,b,c,d,e\"))\n",
    "min_term = [0, 1, 2, 6, 7, 9, 10, 15, 16, 18, 20, 21, 27, 30]\n",
    "min_term = expr = sympy.logic.boolalg.SOPform(v_arr, min_term)\n",
    "min_term = logic_expr(min_term)\n",
    "min_term.m_map.df"
   ]
  },
  {
   "cell_type": "code",
   "execution_count": 16,
   "id": "0a1ddcc7",
   "metadata": {},
   "outputs": [
    {
     "data": {
      "text/latex": [
       "$\\displaystyle \\left(c \\wedge \\neg a \\wedge \\neg d \\wedge \\neg e\\right) \\vee \\left(d \\wedge e \\wedge \\neg a \\wedge \\neg c\\right) \\vee \\left(d \\wedge e \\wedge \\neg b \\wedge \\neg c\\right)$"
      ],
      "text/plain": [
       "(d & e & ~a & ~c) | (d & e & ~b & ~c) | (c & ~a & ~d & ~e)"
      ]
     },
     "execution_count": 16,
     "metadata": {},
     "output_type": "execute_result"
    }
   ],
   "source": [
    "v_arr = list(sympy.symbols(\"a,b,c,d,e\"))\n",
    "min_term = [3,4,11,12,19]\n",
    "min_term = expr = sympy.logic.boolalg.SOPform(v_arr, min_term)\n",
    "sympy.logic.to_dnf(min_term)"
   ]
  },
  {
   "cell_type": "code",
   "execution_count": 17,
   "id": "8de2ce6d",
   "metadata": {},
   "outputs": [
    {
     "data": {
      "text/latex": [
       "$\\displaystyle \\left(b \\wedge \\neg a \\wedge \\neg d\\right) \\vee \\left(b \\wedge \\neg a \\wedge \\neg e\\right) \\vee \\left(e \\wedge \\neg a \\wedge \\neg b\\right) \\vee \\left(\\neg a \\wedge \\neg c \\wedge \\neg d\\right)$"
      ],
      "text/plain": [
       "(b & ~a & ~d) | (b & ~a & ~e) | (e & ~a & ~b) | (~a & ~c & ~d)"
      ]
     },
     "execution_count": 17,
     "metadata": {},
     "output_type": "execute_result"
    }
   ],
   "source": [
    "v_arr = list(sympy.symbols(\"a,b,c,d,e\"))\n",
    "care_min_term = [0,3,5,7,8,9,10,12,13]\n",
    "donot_care = [1,6,11,14]\n",
    "min_term = expr = sympy.logic.boolalg.SOPform(v_arr, minterms=care_min_term, dontcares=donot_care)\n",
    "sympy.logic.to_dnf(min_term)"
   ]
  },
  {
   "cell_type": "code",
   "execution_count": null,
   "id": "d7d9b88582eccb29",
   "metadata": {
    "collapsed": false
   },
   "outputs": [],
   "source": []
  },
  {
   "cell_type": "code",
   "execution_count": null,
   "id": "c7d6e081b459613e",
   "metadata": {
    "collapsed": false
   },
   "outputs": [],
   "source": []
  },
  {
   "cell_type": "code",
   "execution_count": null,
   "id": "60d09ea211e3325",
   "metadata": {
    "collapsed": false
   },
   "outputs": [],
   "source": []
  },
  {
   "cell_type": "code",
   "execution_count": null,
   "id": "72fb679da21623d1",
   "metadata": {
    "collapsed": false
   },
   "outputs": [],
   "source": []
  }
 ],
 "metadata": {
  "kernelspec": {
   "display_name": "Python 3",
   "language": "python",
   "name": "python3"
  },
  "language_info": {
   "codemirror_mode": {
    "name": "ipython",
    "version": 3
   },
   "file_extension": ".py",
   "mimetype": "text/x-python",
   "name": "python",
   "nbconvert_exporter": "python",
   "pygments_lexer": "ipython3",
   "version": "3.11.4"
  }
 },
 "nbformat": 4,
 "nbformat_minor": 5
}
