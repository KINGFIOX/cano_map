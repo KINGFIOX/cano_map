{
 "cells": [
  {
   "cell_type": "code",
   "execution_count": 1,
   "id": "initial_id",
   "metadata": {
    "ExecuteTime": {
     "end_time": "2023-10-13T14:52:27.236030Z",
     "start_time": "2023-10-13T14:52:26.640618Z"
    },
    "collapsed": true
   },
   "outputs": [],
   "source": [
    "from cano import logic_expr\n",
    "import sympy"
   ]
  },
  {
   "cell_type": "code",
   "execution_count": 2,
   "id": "602daaa4f7926bda",
   "metadata": {
    "ExecuteTime": {
     "end_time": "2023-10-13T14:52:27.242791Z",
     "start_time": "2023-10-13T14:52:27.241077Z"
    },
    "collapsed": false
   },
   "outputs": [],
   "source": [
    "a, b, c, d = sympy.symbols('a,b,c,d')\n",
    "expr = c | ~b & ~d | ~a & b & d\n",
    "my_expr = logic_expr(expr)"
   ]
  },
  {
   "cell_type": "code",
   "execution_count": 14,
   "id": "68ec414da2cd1840",
   "metadata": {
    "ExecuteTime": {
     "end_time": "2023-10-13T14:52:27.251307Z",
     "start_time": "2023-10-13T14:52:27.244002Z"
    },
    "collapsed": false
   },
   "outputs": [
    {
     "data": {
      "text/html": [
       "<div>\n",
       "<style scoped>\n",
       "    .dataframe tbody tr th:only-of-type {\n",
       "        vertical-align: middle;\n",
       "    }\n",
       "\n",
       "    .dataframe tbody tr th {\n",
       "        vertical-align: top;\n",
       "    }\n",
       "\n",
       "    .dataframe thead th {\n",
       "        text-align: right;\n",
       "    }\n",
       "</style>\n",
       "<table border=\"1\" class=\"dataframe\">\n",
       "  <thead>\n",
       "    <tr style=\"text-align: right;\">\n",
       "      <th>cd</th>\n",
       "      <th>00</th>\n",
       "      <th>01</th>\n",
       "      <th>11</th>\n",
       "      <th>10</th>\n",
       "    </tr>\n",
       "    <tr>\n",
       "      <th>ab</th>\n",
       "      <th></th>\n",
       "      <th></th>\n",
       "      <th></th>\n",
       "      <th></th>\n",
       "    </tr>\n",
       "  </thead>\n",
       "  <tbody>\n",
       "    <tr>\n",
       "      <th>00</th>\n",
       "      <td>False</td>\n",
       "      <td>True</td>\n",
       "      <td>False</td>\n",
       "      <td>False</td>\n",
       "    </tr>\n",
       "    <tr>\n",
       "      <th>01</th>\n",
       "      <td>True</td>\n",
       "      <td>True</td>\n",
       "      <td>True</td>\n",
       "      <td>True</td>\n",
       "    </tr>\n",
       "    <tr>\n",
       "      <th>11</th>\n",
       "      <td>False</td>\n",
       "      <td>False</td>\n",
       "      <td>False</td>\n",
       "      <td>False</td>\n",
       "    </tr>\n",
       "    <tr>\n",
       "      <th>10</th>\n",
       "      <td>False</td>\n",
       "      <td>False</td>\n",
       "      <td>True</td>\n",
       "      <td>True</td>\n",
       "    </tr>\n",
       "  </tbody>\n",
       "</table>\n",
       "</div>"
      ],
      "text/plain": [
       "cd     00     01     11     10\n",
       "ab                            \n",
       "00  False   True  False  False\n",
       "01   True   True   True   True\n",
       "11  False  False  False  False\n",
       "10  False  False   True   True"
      ]
     },
     "execution_count": 14,
     "metadata": {},
     "output_type": "execute_result"
    }
   ],
   "source": [
    "my_expr.m_map.df"
   ]
  },
  {
   "cell_type": "code",
   "execution_count": null,
   "id": "babc27a97831b634",
   "metadata": {
    "ExecuteTime": {
     "end_time": "2023-10-13T14:52:27.251536Z",
     "start_time": "2023-10-13T14:52:27.250041Z"
    },
    "collapsed": false
   },
   "outputs": [],
   "source": [
    "a, b, c = sympy.symbols('a,b,c')"
   ]
  },
  {
   "cell_type": "code",
   "execution_count": 4,
   "id": "21f1a41cb84ff435",
   "metadata": {
    "ExecuteTime": {
     "end_time": "2023-10-13T14:57:45.741207Z",
     "start_time": "2023-10-13T14:57:45.737094Z"
    },
    "collapsed": false
   },
   "outputs": [
    {
     "name": "stdout",
     "output_type": "stream",
     "text": [
      "bc    00     01     11     10\n",
      "a                            \n",
      "0   True  False   True  False\n",
      "1   True   True  False  False\n"
     ]
    }
   ],
   "source": [
    "min_term = [0, 3, 4, 5]\n",
    "d_term = sympy.logic.boolalg.SOPform([a, b, c], minterms=min_term)\n",
    "d_term_expr = logic_expr(d_term)\n",
    "d_term_expr.show_cano()"
   ]
  },
  {
   "cell_type": "code",
   "execution_count": 5,
   "id": "9089ba9b2c5ca1f9",
   "metadata": {
    "ExecuteTime": {
     "end_time": "2023-10-13T14:58:15.345560Z",
     "start_time": "2023-10-13T14:58:15.334216Z"
    },
    "collapsed": false
   },
   "outputs": [
    {
     "name": "stdout",
     "output_type": "stream",
     "text": [
      "bc     00     01     11    10\n",
      "a                            \n",
      "0    True  False   True  True\n",
      "1   False  False  False  True\n"
     ]
    }
   ],
   "source": [
    "min_term = [0, 2, 3, 6]\n",
    "d_term = sympy.logic.boolalg.SOPform([a, b, c], minterms=min_term)\n",
    "d_term_expr = logic_expr(d_term)\n",
    "d_term_expr.show_cano()"
   ]
  },
  {
   "cell_type": "code",
   "execution_count": 6,
   "id": "2108781d6a410b52",
   "metadata": {
    "ExecuteTime": {
     "end_time": "2023-10-13T15:01:06.233368Z",
     "start_time": "2023-10-13T15:01:06.230743Z"
    },
    "collapsed": false
   },
   "outputs": [
    {
     "name": "stdout",
     "output_type": "stream",
     "text": [
      "bc     00    01     11     10\n",
      "a                            \n",
      "0   False  True   True   True\n",
      "1   False  True  False  False\n"
     ]
    }
   ],
   "source": [
    "min_term = [1, 2, 3, 5]\n",
    "d_term = sympy.logic.boolalg.SOPform([a, b, c], minterms=min_term)\n",
    "d_term_expr = logic_expr(d_term)\n",
    "d_term_expr.show_cano()\n"
   ]
  },
  {
   "cell_type": "code",
   "execution_count": 7,
   "id": "41e25633b6408923",
   "metadata": {
    "ExecuteTime": {
     "end_time": "2023-10-13T15:02:45.655384Z",
     "start_time": "2023-10-13T15:02:45.647841Z"
    },
    "collapsed": false
   },
   "outputs": [
    {
     "name": "stdout",
     "output_type": "stream",
     "text": [
      "bc     00     01     11     10\n",
      "a                             \n",
      "0    True  False  False  False\n",
      "1   False  False   True   True\n"
     ]
    }
   ],
   "source": [
    "min_term = [0, 6, 7]\n",
    "d_term = sympy.logic.boolalg.SOPform([a, b, c], minterms=min_term)\n",
    "d_term_expr = logic_expr(d_term)\n",
    "d_term_expr.show_cano()"
   ]
  },
  {
   "cell_type": "code",
   "execution_count": 8,
   "id": "6fc69008d64ec8f8",
   "metadata": {
    "ExecuteTime": {
     "end_time": "2023-10-13T15:04:59.692944Z",
     "start_time": "2023-10-13T15:04:59.688183Z"
    },
    "collapsed": false
   },
   "outputs": [
    {
     "name": "stdout",
     "output_type": "stream",
     "text": [
      "bc     00     01    11     10\n",
      "a                            \n",
      "0   False   True  True  False\n",
      "1    True  False  True  False\n"
     ]
    }
   ],
   "source": [
    "min_term = [1, 3, 4, 7]\n",
    "d_term = sympy.logic.boolalg.SOPform([a, b, c], minterms=min_term)\n",
    "d_term_expr = logic_expr(d_term)\n",
    "d_term_expr.show_cano()"
   ]
  },
  {
   "cell_type": "code",
   "execution_count": 9,
   "id": "13039fac65b22257",
   "metadata": {
    "ExecuteTime": {
     "end_time": "2023-10-13T15:14:58.276917Z",
     "start_time": "2023-10-13T15:14:58.271882Z"
    },
    "collapsed": false
   },
   "outputs": [
    {
     "name": "stdout",
     "output_type": "stream",
     "text": [
      "cd     00     01     11     10\n",
      "ab                            \n",
      "00  False  False  False  False\n",
      "01  False  False   True   True\n",
      "11  False   True   True   True\n",
      "10  False   True   True   True\n"
     ]
    }
   ],
   "source": [
    "a, b, c, d = sympy.symbols('a,b,c,d')\n",
    "min_term = [6, 7, 9, 10, 11, 13, 14, 15]\n",
    "d_term = sympy.logic.boolalg.SOPform([a, b, c, d], minterms=min_term)\n",
    "d_term_expr = logic_expr(d_term)\n",
    "d_term_expr.show_cano()"
   ]
  },
  {
   "cell_type": "code",
   "execution_count": 10,
   "id": "609d10849839892f",
   "metadata": {
    "ExecuteTime": {
     "end_time": "2023-10-13T15:25:52.424088Z",
     "start_time": "2023-10-13T15:25:52.421769Z"
    },
    "collapsed": false
   },
   "outputs": [
    {
     "data": {
      "text/html": [
       "<div>\n",
       "<style scoped>\n",
       "    .dataframe tbody tr th:only-of-type {\n",
       "        vertical-align: middle;\n",
       "    }\n",
       "\n",
       "    .dataframe tbody tr th {\n",
       "        vertical-align: top;\n",
       "    }\n",
       "\n",
       "    .dataframe thead th {\n",
       "        text-align: right;\n",
       "    }\n",
       "</style>\n",
       "<table border=\"1\" class=\"dataframe\">\n",
       "  <thead>\n",
       "    <tr style=\"text-align: right;\">\n",
       "      <th></th>\n",
       "      <th>binary</th>\n",
       "      <th>value</th>\n",
       "    </tr>\n",
       "  </thead>\n",
       "  <tbody>\n",
       "    <tr>\n",
       "      <th>0</th>\n",
       "      <td>[0, 0, 0]</td>\n",
       "      <td>True</td>\n",
       "    </tr>\n",
       "    <tr>\n",
       "      <th>1</th>\n",
       "      <td>[0, 0, 1]</td>\n",
       "      <td>True</td>\n",
       "    </tr>\n",
       "    <tr>\n",
       "      <th>2</th>\n",
       "      <td>[0, 1, 0]</td>\n",
       "      <td>False</td>\n",
       "    </tr>\n",
       "    <tr>\n",
       "      <th>3</th>\n",
       "      <td>[0, 1, 1]</td>\n",
       "      <td>False</td>\n",
       "    </tr>\n",
       "    <tr>\n",
       "      <th>4</th>\n",
       "      <td>[1, 0, 0]</td>\n",
       "      <td>True</td>\n",
       "    </tr>\n",
       "    <tr>\n",
       "      <th>5</th>\n",
       "      <td>[1, 0, 1]</td>\n",
       "      <td>True</td>\n",
       "    </tr>\n",
       "    <tr>\n",
       "      <th>6</th>\n",
       "      <td>[1, 1, 0]</td>\n",
       "      <td>True</td>\n",
       "    </tr>\n",
       "    <tr>\n",
       "      <th>7</th>\n",
       "      <td>[1, 1, 1]</td>\n",
       "      <td>False</td>\n",
       "    </tr>\n",
       "  </tbody>\n",
       "</table>\n",
       "</div>"
      ],
      "text/plain": [
       "      binary  value\n",
       "0  [0, 0, 0]   True\n",
       "1  [0, 0, 1]   True\n",
       "2  [0, 1, 0]  False\n",
       "3  [0, 1, 1]  False\n",
       "4  [1, 0, 0]   True\n",
       "5  [1, 0, 1]   True\n",
       "6  [1, 1, 0]   True\n",
       "7  [1, 1, 1]  False"
      ]
     },
     "execution_count": 10,
     "metadata": {},
     "output_type": "execute_result"
    }
   ],
   "source": [
    "a, b, c = sympy.symbols('a,b,c')\n",
    "expr = a & b & ~c | ~b\n",
    "my_expr = logic_expr(expr)\n",
    "my_expr.df"
   ]
  },
  {
   "cell_type": "code",
   "execution_count": 11,
   "id": "fe72840433a1b1db",
   "metadata": {
    "ExecuteTime": {
     "end_time": "2023-10-13T15:26:42.436244Z",
     "start_time": "2023-10-13T15:26:42.430892Z"
    },
    "collapsed": false
   },
   "outputs": [
    {
     "data": {
      "text/html": [
       "<div>\n",
       "<style scoped>\n",
       "    .dataframe tbody tr th:only-of-type {\n",
       "        vertical-align: middle;\n",
       "    }\n",
       "\n",
       "    .dataframe tbody tr th {\n",
       "        vertical-align: top;\n",
       "    }\n",
       "\n",
       "    .dataframe thead th {\n",
       "        text-align: right;\n",
       "    }\n",
       "</style>\n",
       "<table border=\"1\" class=\"dataframe\">\n",
       "  <thead>\n",
       "    <tr style=\"text-align: right;\">\n",
       "      <th></th>\n",
       "      <th>binary</th>\n",
       "      <th>value</th>\n",
       "    </tr>\n",
       "  </thead>\n",
       "  <tbody>\n",
       "    <tr>\n",
       "      <th>0</th>\n",
       "      <td>[0, 0, 0]</td>\n",
       "      <td>False</td>\n",
       "    </tr>\n",
       "    <tr>\n",
       "      <th>1</th>\n",
       "      <td>[0, 0, 1]</td>\n",
       "      <td>False</td>\n",
       "    </tr>\n",
       "    <tr>\n",
       "      <th>2</th>\n",
       "      <td>[0, 1, 0]</td>\n",
       "      <td>True</td>\n",
       "    </tr>\n",
       "    <tr>\n",
       "      <th>3</th>\n",
       "      <td>[0, 1, 1]</td>\n",
       "      <td>True</td>\n",
       "    </tr>\n",
       "    <tr>\n",
       "      <th>4</th>\n",
       "      <td>[1, 0, 0]</td>\n",
       "      <td>False</td>\n",
       "    </tr>\n",
       "    <tr>\n",
       "      <th>5</th>\n",
       "      <td>[1, 0, 1]</td>\n",
       "      <td>False</td>\n",
       "    </tr>\n",
       "    <tr>\n",
       "      <th>6</th>\n",
       "      <td>[1, 1, 0]</td>\n",
       "      <td>False</td>\n",
       "    </tr>\n",
       "    <tr>\n",
       "      <th>7</th>\n",
       "      <td>[1, 1, 1]</td>\n",
       "      <td>True</td>\n",
       "    </tr>\n",
       "  </tbody>\n",
       "</table>\n",
       "</div>"
      ],
      "text/plain": [
       "      binary  value\n",
       "0  [0, 0, 0]  False\n",
       "1  [0, 0, 1]  False\n",
       "2  [0, 1, 0]   True\n",
       "3  [0, 1, 1]   True\n",
       "4  [1, 0, 0]  False\n",
       "5  [1, 0, 1]  False\n",
       "6  [1, 1, 0]  False\n",
       "7  [1, 1, 1]   True"
      ]
     },
     "execution_count": 11,
     "metadata": {},
     "output_type": "execute_result"
    }
   ],
   "source": [
    "a, b, c = sympy.symbols('a,b,c')\n",
    "expr = ~(a & b & ~c | ~b)\n",
    "my_expr = logic_expr(expr)\n",
    "my_expr.df"
   ]
  },
  {
   "cell_type": "code",
   "execution_count": 12,
   "id": "2afb62d70c7db586",
   "metadata": {
    "ExecuteTime": {
     "end_time": "2023-10-13T15:28:11.052027Z",
     "start_time": "2023-10-13T15:28:11.044375Z"
    },
    "collapsed": false
   },
   "outputs": [
    {
     "data": {
      "text/html": [
       "<div>\n",
       "<style scoped>\n",
       "    .dataframe tbody tr th:only-of-type {\n",
       "        vertical-align: middle;\n",
       "    }\n",
       "\n",
       "    .dataframe tbody tr th {\n",
       "        vertical-align: top;\n",
       "    }\n",
       "\n",
       "    .dataframe thead th {\n",
       "        text-align: right;\n",
       "    }\n",
       "</style>\n",
       "<table border=\"1\" class=\"dataframe\">\n",
       "  <thead>\n",
       "    <tr style=\"text-align: right;\">\n",
       "      <th></th>\n",
       "      <th>binary</th>\n",
       "      <th>value</th>\n",
       "    </tr>\n",
       "  </thead>\n",
       "  <tbody>\n",
       "    <tr>\n",
       "      <th>0</th>\n",
       "      <td>[0, 0, 0, 0]</td>\n",
       "      <td>False</td>\n",
       "    </tr>\n",
       "    <tr>\n",
       "      <th>1</th>\n",
       "      <td>[0, 0, 0, 1]</td>\n",
       "      <td>True</td>\n",
       "    </tr>\n",
       "    <tr>\n",
       "      <th>2</th>\n",
       "      <td>[0, 0, 1, 0]</td>\n",
       "      <td>False</td>\n",
       "    </tr>\n",
       "    <tr>\n",
       "      <th>3</th>\n",
       "      <td>[0, 0, 1, 1]</td>\n",
       "      <td>False</td>\n",
       "    </tr>\n",
       "    <tr>\n",
       "      <th>4</th>\n",
       "      <td>[0, 1, 0, 0]</td>\n",
       "      <td>True</td>\n",
       "    </tr>\n",
       "    <tr>\n",
       "      <th>5</th>\n",
       "      <td>[0, 1, 0, 1]</td>\n",
       "      <td>True</td>\n",
       "    </tr>\n",
       "    <tr>\n",
       "      <th>6</th>\n",
       "      <td>[0, 1, 1, 0]</td>\n",
       "      <td>True</td>\n",
       "    </tr>\n",
       "    <tr>\n",
       "      <th>7</th>\n",
       "      <td>[0, 1, 1, 1]</td>\n",
       "      <td>True</td>\n",
       "    </tr>\n",
       "    <tr>\n",
       "      <th>8</th>\n",
       "      <td>[1, 0, 0, 0]</td>\n",
       "      <td>False</td>\n",
       "    </tr>\n",
       "    <tr>\n",
       "      <th>9</th>\n",
       "      <td>[1, 0, 0, 1]</td>\n",
       "      <td>False</td>\n",
       "    </tr>\n",
       "    <tr>\n",
       "      <th>10</th>\n",
       "      <td>[1, 0, 1, 0]</td>\n",
       "      <td>True</td>\n",
       "    </tr>\n",
       "    <tr>\n",
       "      <th>11</th>\n",
       "      <td>[1, 0, 1, 1]</td>\n",
       "      <td>True</td>\n",
       "    </tr>\n",
       "    <tr>\n",
       "      <th>12</th>\n",
       "      <td>[1, 1, 0, 0]</td>\n",
       "      <td>False</td>\n",
       "    </tr>\n",
       "    <tr>\n",
       "      <th>13</th>\n",
       "      <td>[1, 1, 0, 1]</td>\n",
       "      <td>False</td>\n",
       "    </tr>\n",
       "    <tr>\n",
       "      <th>14</th>\n",
       "      <td>[1, 1, 1, 0]</td>\n",
       "      <td>False</td>\n",
       "    </tr>\n",
       "    <tr>\n",
       "      <th>15</th>\n",
       "      <td>[1, 1, 1, 1]</td>\n",
       "      <td>False</td>\n",
       "    </tr>\n",
       "  </tbody>\n",
       "</table>\n",
       "</div>"
      ],
      "text/plain": [
       "          binary  value\n",
       "0   [0, 0, 0, 0]  False\n",
       "1   [0, 0, 0, 1]   True\n",
       "2   [0, 0, 1, 0]  False\n",
       "3   [0, 0, 1, 1]  False\n",
       "4   [0, 1, 0, 0]   True\n",
       "5   [0, 1, 0, 1]   True\n",
       "6   [0, 1, 1, 0]   True\n",
       "7   [0, 1, 1, 1]   True\n",
       "8   [1, 0, 0, 0]  False\n",
       "9   [1, 0, 0, 1]  False\n",
       "10  [1, 0, 1, 0]   True\n",
       "11  [1, 0, 1, 1]   True\n",
       "12  [1, 1, 0, 0]  False\n",
       "13  [1, 1, 0, 1]  False\n",
       "14  [1, 1, 1, 0]  False\n",
       "15  [1, 1, 1, 1]  False"
      ]
     },
     "execution_count": 12,
     "metadata": {},
     "output_type": "execute_result"
    }
   ],
   "source": [
    "a, b, c, d = sympy.symbols('a,b,c,d')\n",
    "expr = (a | b | d) & (~a | c) & (~a | ~b | ~c) & (a | b | ~c | ~d)\n",
    "my_expr = logic_expr(expr)\n",
    "my_expr.df"
   ]
  },
  {
   "cell_type": "code",
   "execution_count": 15,
   "id": "725320690d957282",
   "metadata": {
    "ExecuteTime": {
     "end_time": "2023-10-13T16:08:07.832278Z",
     "start_time": "2023-10-13T16:08:07.829353Z"
    },
    "collapsed": false
   },
   "outputs": [
    {
     "data": {
      "text/html": [
       "<div>\n",
       "<style scoped>\n",
       "    .dataframe tbody tr th:only-of-type {\n",
       "        vertical-align: middle;\n",
       "    }\n",
       "\n",
       "    .dataframe tbody tr th {\n",
       "        vertical-align: top;\n",
       "    }\n",
       "\n",
       "    .dataframe thead th {\n",
       "        text-align: right;\n",
       "    }\n",
       "</style>\n",
       "<table border=\"1\" class=\"dataframe\">\n",
       "  <thead>\n",
       "    <tr style=\"text-align: right;\">\n",
       "      <th>bc</th>\n",
       "      <th>00</th>\n",
       "      <th>01</th>\n",
       "      <th>11</th>\n",
       "      <th>10</th>\n",
       "    </tr>\n",
       "    <tr>\n",
       "      <th>a</th>\n",
       "      <th></th>\n",
       "      <th></th>\n",
       "      <th></th>\n",
       "      <th></th>\n",
       "    </tr>\n",
       "  </thead>\n",
       "  <tbody>\n",
       "    <tr>\n",
       "      <th>0</th>\n",
       "      <td>True</td>\n",
       "      <td>False</td>\n",
       "      <td>True</td>\n",
       "      <td>False</td>\n",
       "    </tr>\n",
       "    <tr>\n",
       "      <th>1</th>\n",
       "      <td>False</td>\n",
       "      <td>True</td>\n",
       "      <td>False</td>\n",
       "      <td>True</td>\n",
       "    </tr>\n",
       "  </tbody>\n",
       "</table>\n",
       "</div>"
      ],
      "text/plain": [
       "bc     00     01     11     10\n",
       "a                             \n",
       "0    True  False   True  False\n",
       "1   False   True  False   True"
      ]
     },
     "execution_count": 15,
     "metadata": {},
     "output_type": "execute_result"
    }
   ],
   "source": [
    "arr = list(sympy.symbols('a,b,c'))\n",
    "min_term = [0, 3, 5, 6]\n",
    "d_term = sympy.logic.boolalg.SOPform(arr, minterms=min_term)\n",
    "d_term_expr = logic_expr(d_term)\n",
    "d_term_expr.m_map.df"
   ]
  },
  {
   "cell_type": "code",
   "execution_count": null,
   "id": "7e31571368497d9a",
   "metadata": {
    "collapsed": false
   },
   "outputs": [],
   "source": []
  },
  {
   "cell_type": "code",
   "execution_count": null,
   "id": "936d3895be3b02bf",
   "metadata": {
    "collapsed": false
   },
   "outputs": [],
   "source": []
  },
  {
   "cell_type": "code",
   "execution_count": null,
   "id": "8a082501f5cc5585",
   "metadata": {
    "collapsed": false
   },
   "outputs": [],
   "source": []
  },
  {
   "cell_type": "code",
   "execution_count": null,
   "id": "94d2040f9b761c76",
   "metadata": {
    "collapsed": false
   },
   "outputs": [],
   "source": []
  },
  {
   "cell_type": "code",
   "execution_count": null,
   "id": "d33302946a5dfc39",
   "metadata": {
    "collapsed": false
   },
   "outputs": [],
   "source": []
  }
 ],
 "metadata": {
  "kernelspec": {
   "display_name": "Python 3",
   "language": "python",
   "name": "python3"
  },
  "language_info": {
   "codemirror_mode": {
    "name": "ipython",
    "version": 3
   },
   "file_extension": ".py",
   "mimetype": "text/x-python",
   "name": "python",
   "nbconvert_exporter": "python",
   "pygments_lexer": "ipython3",
   "version": "3.11.4"
  }
 },
 "nbformat": 4,
 "nbformat_minor": 5
}
