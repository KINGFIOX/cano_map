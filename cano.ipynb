{
 "cells": [
  {
   "cell_type": "code",
   "execution_count": 3,
   "id": "initial_id",
   "metadata": {
    "collapsed": true,
    "ExecuteTime": {
     "end_time": "2023-10-13T14:52:27.236030Z",
     "start_time": "2023-10-13T14:52:26.640618Z"
    }
   },
   "outputs": [],
   "source": [
    "from cano import logic_expr\n",
    "import sympy"
   ]
  },
  {
   "cell_type": "code",
   "execution_count": 4,
   "outputs": [],
   "source": [
    "a, b, c, d = sympy.symbols('a,b,c,d')\n",
    "expr = c | ~b & ~d | ~a & b & d\n",
    "my_expr = logic_expr(expr)"
   ],
   "metadata": {
    "collapsed": false,
    "ExecuteTime": {
     "end_time": "2023-10-13T14:52:27.242791Z",
     "start_time": "2023-10-13T14:52:27.241077Z"
    }
   },
   "id": "602daaa4f7926bda"
  },
  {
   "cell_type": "code",
   "execution_count": 5,
   "outputs": [
    {
     "data": {
      "text/plain": "cd     00     01    11    10\nab                          \n00   True  False  True  True\n01  False   True  True  True\n11  False  False  True  True\n10   True  False  True  True",
      "text/html": "<div>\n<style scoped>\n    .dataframe tbody tr th:only-of-type {\n        vertical-align: middle;\n    }\n\n    .dataframe tbody tr th {\n        vertical-align: top;\n    }\n\n    .dataframe thead th {\n        text-align: right;\n    }\n</style>\n<table border=\"1\" class=\"dataframe\">\n  <thead>\n    <tr style=\"text-align: right;\">\n      <th>cd</th>\n      <th>00</th>\n      <th>01</th>\n      <th>11</th>\n      <th>10</th>\n    </tr>\n    <tr>\n      <th>ab</th>\n      <th></th>\n      <th></th>\n      <th></th>\n      <th></th>\n    </tr>\n  </thead>\n  <tbody>\n    <tr>\n      <th>00</th>\n      <td>True</td>\n      <td>False</td>\n      <td>True</td>\n      <td>True</td>\n    </tr>\n    <tr>\n      <th>01</th>\n      <td>False</td>\n      <td>True</td>\n      <td>True</td>\n      <td>True</td>\n    </tr>\n    <tr>\n      <th>11</th>\n      <td>False</td>\n      <td>False</td>\n      <td>True</td>\n      <td>True</td>\n    </tr>\n    <tr>\n      <th>10</th>\n      <td>True</td>\n      <td>False</td>\n      <td>True</td>\n      <td>True</td>\n    </tr>\n  </tbody>\n</table>\n</div>"
     },
     "execution_count": 5,
     "metadata": {},
     "output_type": "execute_result"
    }
   ],
   "source": [
    "my_expr.my_map.df"
   ],
   "metadata": {
    "collapsed": false,
    "ExecuteTime": {
     "end_time": "2023-10-13T14:52:27.251307Z",
     "start_time": "2023-10-13T14:52:27.244002Z"
    }
   },
   "id": "68ec414da2cd1840"
  },
  {
   "cell_type": "code",
   "execution_count": 6,
   "outputs": [],
   "source": [
    "a, b, c = sympy.symbols('a,b,c')"
   ],
   "metadata": {
    "collapsed": false,
    "ExecuteTime": {
     "end_time": "2023-10-13T14:52:27.251536Z",
     "start_time": "2023-10-13T14:52:27.250041Z"
    }
   },
   "id": "babc27a97831b634"
  },
  {
   "cell_type": "code",
   "execution_count": 12,
   "outputs": [
    {
     "name": "stdout",
     "output_type": "stream",
     "text": [
      "bc    00     01     11     10\n",
      "a                            \n",
      "0   True  False   True  False\n",
      "1   True   True  False  False\n"
     ]
    }
   ],
   "source": [
    "min_term = [0, 3, 4, 5]\n",
    "d_term = sympy.logic.boolalg.SOPform([a, b, c], minterms=min_term)\n",
    "d_term_expr = logic_expr(d_term)\n",
    "d_term_expr.show_cano()"
   ],
   "metadata": {
    "collapsed": false,
    "ExecuteTime": {
     "end_time": "2023-10-13T14:57:45.741207Z",
     "start_time": "2023-10-13T14:57:45.737094Z"
    }
   },
   "id": "21f1a41cb84ff435"
  },
  {
   "cell_type": "code",
   "execution_count": 13,
   "outputs": [
    {
     "name": "stdout",
     "output_type": "stream",
     "text": [
      "bc     00     01     11    10\n",
      "a                            \n",
      "0    True  False   True  True\n",
      "1   False  False  False  True\n"
     ]
    }
   ],
   "source": [
    "min_term = [0, 2, 3, 6]\n",
    "d_term = sympy.logic.boolalg.SOPform([a, b, c], minterms=min_term)\n",
    "d_term_expr = logic_expr(d_term)\n",
    "d_term_expr.show_cano()"
   ],
   "metadata": {
    "collapsed": false,
    "ExecuteTime": {
     "end_time": "2023-10-13T14:58:15.345560Z",
     "start_time": "2023-10-13T14:58:15.334216Z"
    }
   },
   "id": "9089ba9b2c5ca1f9"
  },
  {
   "cell_type": "code",
   "execution_count": 14,
   "outputs": [
    {
     "name": "stdout",
     "output_type": "stream",
     "text": [
      "bc     00    01     11     10\n",
      "a                            \n",
      "0   False  True   True   True\n",
      "1   False  True  False  False\n"
     ]
    }
   ],
   "source": [
    "min_term = [1, 2, 3, 5]\n",
    "d_term = sympy.logic.boolalg.SOPform([a, b, c], minterms=min_term)\n",
    "d_term_expr = logic_expr(d_term)\n",
    "d_term_expr.show_cano()\n"
   ],
   "metadata": {
    "collapsed": false,
    "ExecuteTime": {
     "end_time": "2023-10-13T15:01:06.233368Z",
     "start_time": "2023-10-13T15:01:06.230743Z"
    }
   },
   "id": "2108781d6a410b52"
  },
  {
   "cell_type": "code",
   "execution_count": 15,
   "outputs": [
    {
     "name": "stdout",
     "output_type": "stream",
     "text": [
      "bc     00     01     11     10\n",
      "a                             \n",
      "0    True  False  False  False\n",
      "1   False  False   True   True\n"
     ]
    }
   ],
   "source": [
    "min_term = [0, 6, 7]\n",
    "d_term = sympy.logic.boolalg.SOPform([a, b, c], minterms=min_term)\n",
    "d_term_expr = logic_expr(d_term)\n",
    "d_term_expr.show_cano()"
   ],
   "metadata": {
    "collapsed": false,
    "ExecuteTime": {
     "end_time": "2023-10-13T15:02:45.655384Z",
     "start_time": "2023-10-13T15:02:45.647841Z"
    }
   },
   "id": "41e25633b6408923"
  },
  {
   "cell_type": "code",
   "execution_count": 16,
   "outputs": [
    {
     "name": "stdout",
     "output_type": "stream",
     "text": [
      "bc     00     01    11     10\n",
      "a                            \n",
      "0   False   True  True  False\n",
      "1    True  False  True  False\n"
     ]
    }
   ],
   "source": [
    "min_term = [1, 3, 4, 7]\n",
    "d_term = sympy.logic.boolalg.SOPform([a, b, c], minterms=min_term)\n",
    "d_term_expr = logic_expr(d_term)\n",
    "d_term_expr.show_cano()"
   ],
   "metadata": {
    "collapsed": false,
    "ExecuteTime": {
     "end_time": "2023-10-13T15:04:59.692944Z",
     "start_time": "2023-10-13T15:04:59.688183Z"
    }
   },
   "id": "6fc69008d64ec8f8"
  },
  {
   "cell_type": "code",
   "execution_count": 17,
   "outputs": [
    {
     "name": "stdout",
     "output_type": "stream",
     "text": [
      "cd     00     01     11     10\n",
      "ab                            \n",
      "00  False  False  False  False\n",
      "01  False  False   True   True\n",
      "11  False   True   True   True\n",
      "10  False   True   True   True\n"
     ]
    }
   ],
   "source": [
    "a, b, c, d = sympy.symbols('a,b,c,d')\n",
    "min_term = [6, 7, 9, 10, 11, 13, 14, 15]\n",
    "d_term = sympy.logic.boolalg.SOPform([a, b, c, d], minterms=min_term)\n",
    "d_term_expr = logic_expr(d_term)\n",
    "d_term_expr.show_cano()"
   ],
   "metadata": {
    "collapsed": false,
    "ExecuteTime": {
     "end_time": "2023-10-13T15:14:58.276917Z",
     "start_time": "2023-10-13T15:14:58.271882Z"
    }
   },
   "id": "13039fac65b22257"
  },
  {
   "cell_type": "code",
   "execution_count": 22,
   "outputs": [
    {
     "data": {
      "text/plain": "      binary  value\n0  [0, 0, 0]   True\n1  [0, 0, 1]   True\n2  [0, 1, 0]  False\n3  [0, 1, 1]  False\n4  [1, 0, 0]   True\n5  [1, 0, 1]   True\n6  [1, 1, 0]   True\n7  [1, 1, 1]  False",
      "text/html": "<div>\n<style scoped>\n    .dataframe tbody tr th:only-of-type {\n        vertical-align: middle;\n    }\n\n    .dataframe tbody tr th {\n        vertical-align: top;\n    }\n\n    .dataframe thead th {\n        text-align: right;\n    }\n</style>\n<table border=\"1\" class=\"dataframe\">\n  <thead>\n    <tr style=\"text-align: right;\">\n      <th></th>\n      <th>binary</th>\n      <th>value</th>\n    </tr>\n  </thead>\n  <tbody>\n    <tr>\n      <th>0</th>\n      <td>[0, 0, 0]</td>\n      <td>True</td>\n    </tr>\n    <tr>\n      <th>1</th>\n      <td>[0, 0, 1]</td>\n      <td>True</td>\n    </tr>\n    <tr>\n      <th>2</th>\n      <td>[0, 1, 0]</td>\n      <td>False</td>\n    </tr>\n    <tr>\n      <th>3</th>\n      <td>[0, 1, 1]</td>\n      <td>False</td>\n    </tr>\n    <tr>\n      <th>4</th>\n      <td>[1, 0, 0]</td>\n      <td>True</td>\n    </tr>\n    <tr>\n      <th>5</th>\n      <td>[1, 0, 1]</td>\n      <td>True</td>\n    </tr>\n    <tr>\n      <th>6</th>\n      <td>[1, 1, 0]</td>\n      <td>True</td>\n    </tr>\n    <tr>\n      <th>7</th>\n      <td>[1, 1, 1]</td>\n      <td>False</td>\n    </tr>\n  </tbody>\n</table>\n</div>"
     },
     "execution_count": 22,
     "metadata": {},
     "output_type": "execute_result"
    }
   ],
   "source": [
    "a, b, c = sympy.symbols('a,b,c')\n",
    "expr = a & b & ~c | ~b\n",
    "my_expr = logic_expr(expr)\n",
    "my_expr.df"
   ],
   "metadata": {
    "collapsed": false,
    "ExecuteTime": {
     "end_time": "2023-10-13T15:25:52.424088Z",
     "start_time": "2023-10-13T15:25:52.421769Z"
    }
   },
   "id": "609d10849839892f"
  },
  {
   "cell_type": "code",
   "execution_count": 23,
   "outputs": [
    {
     "data": {
      "text/plain": "      binary  value\n0  [0, 0, 0]  False\n1  [0, 0, 1]  False\n2  [0, 1, 0]   True\n3  [0, 1, 1]   True\n4  [1, 0, 0]  False\n5  [1, 0, 1]  False\n6  [1, 1, 0]  False\n7  [1, 1, 1]   True",
      "text/html": "<div>\n<style scoped>\n    .dataframe tbody tr th:only-of-type {\n        vertical-align: middle;\n    }\n\n    .dataframe tbody tr th {\n        vertical-align: top;\n    }\n\n    .dataframe thead th {\n        text-align: right;\n    }\n</style>\n<table border=\"1\" class=\"dataframe\">\n  <thead>\n    <tr style=\"text-align: right;\">\n      <th></th>\n      <th>binary</th>\n      <th>value</th>\n    </tr>\n  </thead>\n  <tbody>\n    <tr>\n      <th>0</th>\n      <td>[0, 0, 0]</td>\n      <td>False</td>\n    </tr>\n    <tr>\n      <th>1</th>\n      <td>[0, 0, 1]</td>\n      <td>False</td>\n    </tr>\n    <tr>\n      <th>2</th>\n      <td>[0, 1, 0]</td>\n      <td>True</td>\n    </tr>\n    <tr>\n      <th>3</th>\n      <td>[0, 1, 1]</td>\n      <td>True</td>\n    </tr>\n    <tr>\n      <th>4</th>\n      <td>[1, 0, 0]</td>\n      <td>False</td>\n    </tr>\n    <tr>\n      <th>5</th>\n      <td>[1, 0, 1]</td>\n      <td>False</td>\n    </tr>\n    <tr>\n      <th>6</th>\n      <td>[1, 1, 0]</td>\n      <td>False</td>\n    </tr>\n    <tr>\n      <th>7</th>\n      <td>[1, 1, 1]</td>\n      <td>True</td>\n    </tr>\n  </tbody>\n</table>\n</div>"
     },
     "execution_count": 23,
     "metadata": {},
     "output_type": "execute_result"
    }
   ],
   "source": [
    "a, b, c = sympy.symbols('a,b,c')\n",
    "expr = ~(a & b & ~c | ~b)\n",
    "my_expr = logic_expr(expr)\n",
    "my_expr.df"
   ],
   "metadata": {
    "collapsed": false,
    "ExecuteTime": {
     "end_time": "2023-10-13T15:26:42.436244Z",
     "start_time": "2023-10-13T15:26:42.430892Z"
    }
   },
   "id": "fe72840433a1b1db"
  },
  {
   "cell_type": "code",
   "execution_count": 24,
   "outputs": [
    {
     "data": {
      "text/plain": "          binary  value\n0   [0, 0, 0, 0]  False\n1   [0, 0, 0, 1]   True\n2   [0, 0, 1, 0]  False\n3   [0, 0, 1, 1]  False\n4   [0, 1, 0, 0]   True\n5   [0, 1, 0, 1]   True\n6   [0, 1, 1, 0]   True\n7   [0, 1, 1, 1]   True\n8   [1, 0, 0, 0]  False\n9   [1, 0, 0, 1]  False\n10  [1, 0, 1, 0]   True\n11  [1, 0, 1, 1]   True\n12  [1, 1, 0, 0]  False\n13  [1, 1, 0, 1]  False\n14  [1, 1, 1, 0]  False\n15  [1, 1, 1, 1]  False",
      "text/html": "<div>\n<style scoped>\n    .dataframe tbody tr th:only-of-type {\n        vertical-align: middle;\n    }\n\n    .dataframe tbody tr th {\n        vertical-align: top;\n    }\n\n    .dataframe thead th {\n        text-align: right;\n    }\n</style>\n<table border=\"1\" class=\"dataframe\">\n  <thead>\n    <tr style=\"text-align: right;\">\n      <th></th>\n      <th>binary</th>\n      <th>value</th>\n    </tr>\n  </thead>\n  <tbody>\n    <tr>\n      <th>0</th>\n      <td>[0, 0, 0, 0]</td>\n      <td>False</td>\n    </tr>\n    <tr>\n      <th>1</th>\n      <td>[0, 0, 0, 1]</td>\n      <td>True</td>\n    </tr>\n    <tr>\n      <th>2</th>\n      <td>[0, 0, 1, 0]</td>\n      <td>False</td>\n    </tr>\n    <tr>\n      <th>3</th>\n      <td>[0, 0, 1, 1]</td>\n      <td>False</td>\n    </tr>\n    <tr>\n      <th>4</th>\n      <td>[0, 1, 0, 0]</td>\n      <td>True</td>\n    </tr>\n    <tr>\n      <th>5</th>\n      <td>[0, 1, 0, 1]</td>\n      <td>True</td>\n    </tr>\n    <tr>\n      <th>6</th>\n      <td>[0, 1, 1, 0]</td>\n      <td>True</td>\n    </tr>\n    <tr>\n      <th>7</th>\n      <td>[0, 1, 1, 1]</td>\n      <td>True</td>\n    </tr>\n    <tr>\n      <th>8</th>\n      <td>[1, 0, 0, 0]</td>\n      <td>False</td>\n    </tr>\n    <tr>\n      <th>9</th>\n      <td>[1, 0, 0, 1]</td>\n      <td>False</td>\n    </tr>\n    <tr>\n      <th>10</th>\n      <td>[1, 0, 1, 0]</td>\n      <td>True</td>\n    </tr>\n    <tr>\n      <th>11</th>\n      <td>[1, 0, 1, 1]</td>\n      <td>True</td>\n    </tr>\n    <tr>\n      <th>12</th>\n      <td>[1, 1, 0, 0]</td>\n      <td>False</td>\n    </tr>\n    <tr>\n      <th>13</th>\n      <td>[1, 1, 0, 1]</td>\n      <td>False</td>\n    </tr>\n    <tr>\n      <th>14</th>\n      <td>[1, 1, 1, 0]</td>\n      <td>False</td>\n    </tr>\n    <tr>\n      <th>15</th>\n      <td>[1, 1, 1, 1]</td>\n      <td>False</td>\n    </tr>\n  </tbody>\n</table>\n</div>"
     },
     "execution_count": 24,
     "metadata": {},
     "output_type": "execute_result"
    }
   ],
   "source": [
    "a, b, c, d = sympy.symbols('a,b,c,d')\n",
    "expr = (a | b | d) & (~a | c) & (~a | ~b | ~c) & (a | b | ~c | ~d)\n",
    "my_expr = logic_expr(expr)\n",
    "my_expr.df"
   ],
   "metadata": {
    "collapsed": false,
    "ExecuteTime": {
     "end_time": "2023-10-13T15:28:11.052027Z",
     "start_time": "2023-10-13T15:28:11.044375Z"
    }
   },
   "id": "2afb62d70c7db586"
  },
  {
   "cell_type": "code",
   "execution_count": 31,
   "outputs": [
    {
     "data": {
      "text/plain": "bc     00     01     11     10\na                             \n0    True  False   True  False\n1   False   True  False   True",
      "text/html": "<div>\n<style scoped>\n    .dataframe tbody tr th:only-of-type {\n        vertical-align: middle;\n    }\n\n    .dataframe tbody tr th {\n        vertical-align: top;\n    }\n\n    .dataframe thead th {\n        text-align: right;\n    }\n</style>\n<table border=\"1\" class=\"dataframe\">\n  <thead>\n    <tr style=\"text-align: right;\">\n      <th>bc</th>\n      <th>00</th>\n      <th>01</th>\n      <th>11</th>\n      <th>10</th>\n    </tr>\n    <tr>\n      <th>a</th>\n      <th></th>\n      <th></th>\n      <th></th>\n      <th></th>\n    </tr>\n  </thead>\n  <tbody>\n    <tr>\n      <th>0</th>\n      <td>True</td>\n      <td>False</td>\n      <td>True</td>\n      <td>False</td>\n    </tr>\n    <tr>\n      <th>1</th>\n      <td>False</td>\n      <td>True</td>\n      <td>False</td>\n      <td>True</td>\n    </tr>\n  </tbody>\n</table>\n</div>"
     },
     "execution_count": 31,
     "metadata": {},
     "output_type": "execute_result"
    }
   ],
   "source": [
    "arr = list(sympy.symbols('a,b,c'))\n",
    "min_term = [0, 3, 5, 6]\n",
    "d_term = sympy.logic.boolalg.SOPform(arr, minterms=min_term)\n",
    "d_term_expr = logic_expr(d_term)\n",
    "d_term_expr.my_map.df"
   ],
   "metadata": {
    "collapsed": false,
    "ExecuteTime": {
     "end_time": "2023-10-13T16:08:07.832278Z",
     "start_time": "2023-10-13T16:08:07.829353Z"
    }
   },
   "id": "725320690d957282"
  },
  {
   "cell_type": "code",
   "execution_count": null,
   "outputs": [],
   "source": [],
   "metadata": {
    "collapsed": false
   },
   "id": "7e31571368497d9a"
  },
  {
   "cell_type": "code",
   "execution_count": null,
   "outputs": [],
   "source": [],
   "metadata": {
    "collapsed": false
   },
   "id": "936d3895be3b02bf"
  },
  {
   "cell_type": "code",
   "execution_count": null,
   "outputs": [],
   "source": [],
   "metadata": {
    "collapsed": false
   },
   "id": "8a082501f5cc5585"
  },
  {
   "cell_type": "code",
   "execution_count": null,
   "outputs": [],
   "source": [],
   "metadata": {
    "collapsed": false
   },
   "id": "94d2040f9b761c76"
  },
  {
   "cell_type": "code",
   "execution_count": null,
   "outputs": [],
   "source": [],
   "metadata": {
    "collapsed": false
   },
   "id": "d33302946a5dfc39"
  }
 ],
 "metadata": {
  "kernelspec": {
   "display_name": "Python 3",
   "language": "python",
   "name": "python3"
  },
  "language_info": {
   "codemirror_mode": {
    "name": "ipython",
    "version": 2
   },
   "file_extension": ".py",
   "mimetype": "text/x-python",
   "name": "python",
   "nbconvert_exporter": "python",
   "pygments_lexer": "ipython2",
   "version": "2.7.6"
  }
 },
 "nbformat": 4,
 "nbformat_minor": 5
}
