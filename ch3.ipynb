{
 "cells": [
  {
   "cell_type": "code",
   "execution_count": 1,
   "outputs": [],
   "source": [
    "import sympy\n",
    "import pandas as pd\n",
    "import matplotlib.pyplot as plt"
   ],
   "metadata": {
    "collapsed": false,
    "ExecuteTime": {
     "end_time": "2023-10-13T09:18:15.639197Z",
     "start_time": "2023-10-13T09:18:14.932284Z"
    }
   },
   "id": "6b3fc7aa1bf2744e"
  },
  {
   "cell_type": "code",
   "execution_count": 2,
   "outputs": [],
   "source": [
    "k, m, n, l = sympy.symbols('k,m,n,l')"
   ],
   "metadata": {
    "collapsed": false,
    "ExecuteTime": {
     "end_time": "2023-10-13T09:19:10.607901Z",
     "start_time": "2023-10-13T09:19:10.596982Z"
    }
   },
   "id": "76306941f19f21dc"
  },
  {
   "cell_type": "code",
   "execution_count": 3,
   "outputs": [],
   "source": [
    "expr = ~k & ~m & n | k & ~l & ~n | ~k & m & ~n | l & n"
   ],
   "metadata": {
    "collapsed": false,
    "ExecuteTime": {
     "end_time": "2023-10-13T09:20:02.444394Z",
     "start_time": "2023-10-13T09:20:02.441041Z"
    }
   },
   "id": "7fdfb51553eef3e1"
  },
  {
   "cell_type": "code",
   "execution_count": 8,
   "outputs": [
    {
     "data": {
      "text/plain": "(k | m | n) & (l | ~k | ~n) & (l | ~m | ~n) & (n | ~k | ~l)",
      "text/latex": "$\\displaystyle \\left(k \\vee m \\vee n\\right) \\wedge \\left(l \\vee \\neg k \\vee \\neg n\\right) \\wedge \\left(l \\vee \\neg m \\vee \\neg n\\right) \\wedge \\left(n \\vee \\neg k \\vee \\neg l\\right)$"
     },
     "execution_count": 8,
     "metadata": {},
     "output_type": "execute_result"
    }
   ],
   "source": [
    "sympy.to_cnf(expr, simplify=True)"
   ],
   "metadata": {
    "collapsed": false,
    "ExecuteTime": {
     "end_time": "2023-10-13T09:21:05.283815Z",
     "start_time": "2023-10-13T09:21:05.281388Z"
    }
   },
   "id": "a1654e1a90006dca"
  },
  {
   "cell_type": "code",
   "execution_count": 9,
   "outputs": [],
   "source": [
    "k, m, n, l = sympy.symbols('k,m,n,l')"
   ],
   "metadata": {
    "collapsed": false,
    "ExecuteTime": {
     "end_time": "2023-10-13T09:40:13.160780Z",
     "start_time": "2023-10-13T09:40:13.157643Z"
    }
   },
   "id": "181730252b271f34"
  },
  {
   "cell_type": "code",
   "execution_count": 10,
   "outputs": [],
   "source": [
    "expr = (~k | ~m | n) & (~k | m) & (l | ~m | ~n) & (~k | l | m) & (m | n)"
   ],
   "metadata": {
    "collapsed": false,
    "ExecuteTime": {
     "end_time": "2023-10-13T09:41:20.919931Z",
     "start_time": "2023-10-13T09:41:20.915193Z"
    }
   },
   "id": "f14f0a9030c1f80d"
  },
  {
   "cell_type": "code",
   "execution_count": 11,
   "outputs": [
    {
     "data": {
      "text/plain": "(l & m & n) | (m & ~k & ~n) | (n & ~k & ~m)",
      "text/latex": "$\\displaystyle \\left(l \\wedge m \\wedge n\\right) \\vee \\left(m \\wedge \\neg k \\wedge \\neg n\\right) \\vee \\left(n \\wedge \\neg k \\wedge \\neg m\\right)$"
     },
     "execution_count": 11,
     "metadata": {},
     "output_type": "execute_result"
    }
   ],
   "source": [
    "sympy.to_dnf(expr, simplify=True)"
   ],
   "metadata": {
    "collapsed": false,
    "ExecuteTime": {
     "end_time": "2023-10-13T09:48:13.299398Z",
     "start_time": "2023-10-13T09:48:13.296818Z"
    }
   },
   "id": "3fdbd38f8081e827"
  },
  {
   "cell_type": "code",
   "execution_count": 12,
   "outputs": [],
   "source": [
    "expr = k & n & ~l | k & ~m & n | k & m & l | ~k & ~n & l"
   ],
   "metadata": {
    "collapsed": false,
    "ExecuteTime": {
     "end_time": "2023-10-13T10:13:05.092744Z",
     "start_time": "2023-10-13T10:13:05.085754Z"
    }
   },
   "id": "c22dd957f2f6b190"
  },
  {
   "cell_type": "code",
   "execution_count": 14,
   "outputs": [
    {
     "data": {
      "text/plain": "(k & n) | (l & m & ~n) | (l & ~k & ~n)",
      "text/latex": "$\\displaystyle \\left(k \\wedge n\\right) \\vee \\left(l \\wedge m \\wedge \\neg n\\right) \\vee \\left(l \\wedge \\neg k \\wedge \\neg n\\right)$"
     },
     "execution_count": 14,
     "metadata": {},
     "output_type": "execute_result"
    }
   ],
   "source": [
    "sympy.to_dnf(expr, simplify=True)"
   ],
   "metadata": {
    "collapsed": false,
    "ExecuteTime": {
     "end_time": "2023-10-13T10:13:22.765943Z",
     "start_time": "2023-10-13T10:13:22.763864Z"
    }
   },
   "id": "cc91ec4d3b9fabe2"
  },
  {
   "cell_type": "code",
   "execution_count": 15,
   "outputs": [],
   "source": [
    "expr = (k | l | m) & (~k | ~l | ~n) & (~k | ~l | ~m) & (k | l | n)"
   ],
   "metadata": {
    "collapsed": false,
    "ExecuteTime": {
     "end_time": "2023-10-13T10:26:56.851808Z",
     "start_time": "2023-10-13T10:26:56.845306Z"
    }
   },
   "id": "42c9c60afb771a04"
  },
  {
   "cell_type": "code",
   "execution_count": 16,
   "outputs": [
    {
     "data": {
      "text/plain": "(k & ~l) | (l & ~k) | (m & n & ~k) | (l & ~m & ~n)",
      "text/latex": "$\\displaystyle \\left(k \\wedge \\neg l\\right) \\vee \\left(l \\wedge \\neg k\\right) \\vee \\left(l \\wedge \\neg m \\wedge \\neg n\\right) \\vee \\left(m \\wedge n \\wedge \\neg k\\right)$"
     },
     "execution_count": 16,
     "metadata": {},
     "output_type": "execute_result"
    }
   ],
   "source": [
    "sympy.to_dnf(expr, simplify=True)"
   ],
   "metadata": {
    "collapsed": false,
    "ExecuteTime": {
     "end_time": "2023-10-13T10:27:06.988469Z",
     "start_time": "2023-10-13T10:27:06.983566Z"
    }
   },
   "id": "37b6b01ce8caf523"
  },
  {
   "cell_type": "code",
   "execution_count": 17,
   "outputs": [],
   "source": [
    "expr = k & ~m | ~k & m | k & ~n & ~l | ~k & n & l"
   ],
   "metadata": {
    "collapsed": false,
    "ExecuteTime": {
     "end_time": "2023-10-13T10:34:13.824364Z",
     "start_time": "2023-10-13T10:34:13.817841Z"
    }
   },
   "id": "85c00dc6d20f0935"
  },
  {
   "cell_type": "code",
   "execution_count": 18,
   "outputs": [
    {
     "data": {
      "text/plain": "(k & ~m) | (m & ~k) | (l & n & ~k) | (m & ~l & ~n)",
      "text/latex": "$\\displaystyle \\left(k \\wedge \\neg m\\right) \\vee \\left(m \\wedge \\neg k\\right) \\vee \\left(l \\wedge n \\wedge \\neg k\\right) \\vee \\left(m \\wedge \\neg l \\wedge \\neg n\\right)$"
     },
     "execution_count": 18,
     "metadata": {},
     "output_type": "execute_result"
    }
   ],
   "source": [
    "sympy.to_dnf(expr, simplify=True)"
   ],
   "metadata": {
    "collapsed": false,
    "ExecuteTime": {
     "end_time": "2023-10-13T10:34:23.137083Z",
     "start_time": "2023-10-13T10:34:23.133096Z"
    }
   },
   "id": "87b2302c6623119b"
  },
  {
   "cell_type": "code",
   "execution_count": 19,
   "outputs": [],
   "source": [
    "a, b, c, d = sympy.symbols('a,b,c,d')"
   ],
   "metadata": {
    "collapsed": false,
    "ExecuteTime": {
     "end_time": "2023-10-13T11:21:09.570499Z",
     "start_time": "2023-10-13T11:21:09.552732Z"
    }
   },
   "id": "8013b2cc3507d920"
  },
  {
   "cell_type": "code",
   "execution_count": 20,
   "outputs": [],
   "source": [
    "expr = ~a & ~c & ~d | b & ~c & d | a & ~b & ~c | ~a & b & c"
   ],
   "metadata": {
    "collapsed": false,
    "ExecuteTime": {
     "end_time": "2023-10-13T11:22:14.422895Z",
     "start_time": "2023-10-13T11:22:14.412479Z"
    }
   },
   "id": "334a3e3ce7afb427"
  },
  {
   "cell_type": "code",
   "execution_count": 21,
   "outputs": [
    {
     "data": {
      "text/plain": "(b & ~a) | (a & d & ~c) | (~b & ~c & ~d)",
      "text/latex": "$\\displaystyle \\left(b \\wedge \\neg a\\right) \\vee \\left(a \\wedge d \\wedge \\neg c\\right) \\vee \\left(\\neg b \\wedge \\neg c \\wedge \\neg d\\right)$"
     },
     "execution_count": 21,
     "metadata": {},
     "output_type": "execute_result"
    }
   ],
   "source": [
    "sympy.to_dnf(expr, simplify=True)"
   ],
   "metadata": {
    "collapsed": false,
    "ExecuteTime": {
     "end_time": "2023-10-13T11:22:27.766524Z",
     "start_time": "2023-10-13T11:22:27.750362Z"
    }
   },
   "id": "9dd1a9d86784ed8e"
  },
  {
   "cell_type": "code",
   "execution_count": 22,
   "outputs": [],
   "source": [
    "expr = ~a & ~c & ~d | b & ~c & d | a & ~b & ~c | ~a & b & c"
   ],
   "metadata": {
    "collapsed": false,
    "ExecuteTime": {
     "end_time": "2023-10-13T11:27:24.951709Z",
     "start_time": "2023-10-13T11:27:24.943046Z"
    }
   },
   "id": "4c0d8b83b41f5706"
  },
  {
   "cell_type": "code",
   "execution_count": 23,
   "outputs": [
    {
     "data": {
      "text/plain": "(b & ~a) | (a & d & ~c) | (~b & ~c & ~d)",
      "text/latex": "$\\displaystyle \\left(b \\wedge \\neg a\\right) \\vee \\left(a \\wedge d \\wedge \\neg c\\right) \\vee \\left(\\neg b \\wedge \\neg c \\wedge \\neg d\\right)$"
     },
     "execution_count": 23,
     "metadata": {},
     "output_type": "execute_result"
    }
   ],
   "source": [
    "sympy.to_dnf(expr, simplify=True)"
   ],
   "metadata": {
    "collapsed": false,
    "ExecuteTime": {
     "end_time": "2023-10-13T11:27:35.852729Z",
     "start_time": "2023-10-13T11:27:35.838228Z"
    }
   },
   "id": "d0a47e862fe13c81"
  },
  {
   "cell_type": "code",
   "execution_count": null,
   "outputs": [],
   "source": [],
   "metadata": {
    "collapsed": false
   },
   "id": "b5f70de17180253b"
  }
 ],
 "metadata": {
  "kernelspec": {
   "display_name": "Python 3",
   "language": "python",
   "name": "python3"
  },
  "language_info": {
   "codemirror_mode": {
    "name": "ipython",
    "version": 2
   },
   "file_extension": ".py",
   "mimetype": "text/x-python",
   "name": "python",
   "nbconvert_exporter": "python",
   "pygments_lexer": "ipython2",
   "version": "2.7.6"
  }
 },
 "nbformat": 4,
 "nbformat_minor": 5
}
