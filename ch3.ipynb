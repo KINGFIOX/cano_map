{
 "cells": [
  {
   "cell_type": "code",
   "execution_count": 1,
   "id": "6b3fc7aa1bf2744e",
   "metadata": {
    "ExecuteTime": {
     "end_time": "2023-10-13T09:18:15.639197Z",
     "start_time": "2023-10-13T09:18:14.932284Z"
    },
    "collapsed": false
   },
   "outputs": [],
   "source": [
    "import sympy\n",
    "import pandas as pd\n",
    "import matplotlib.pyplot as plt"
   ]
  },
  {
   "cell_type": "code",
   "execution_count": 2,
   "id": "76306941f19f21dc",
   "metadata": {
    "ExecuteTime": {
     "end_time": "2023-10-13T09:19:10.607901Z",
     "start_time": "2023-10-13T09:19:10.596982Z"
    },
    "collapsed": false
   },
   "outputs": [],
   "source": [
    "k, m, n, l = sympy.symbols('k,m,n,l')"
   ]
  },
  {
   "cell_type": "code",
   "execution_count": 3,
   "id": "7fdfb51553eef3e1",
   "metadata": {
    "ExecuteTime": {
     "end_time": "2023-10-13T09:20:02.444394Z",
     "start_time": "2023-10-13T09:20:02.441041Z"
    },
    "collapsed": false
   },
   "outputs": [],
   "source": [
    "expr = ~k & ~m & n | k & ~l & ~n | ~k & m & ~n | l & n"
   ]
  },
  {
   "cell_type": "code",
   "execution_count": 4,
   "id": "a1654e1a90006dca",
   "metadata": {
    "ExecuteTime": {
     "end_time": "2023-10-13T09:21:05.283815Z",
     "start_time": "2023-10-13T09:21:05.281388Z"
    },
    "collapsed": false
   },
   "outputs": [
    {
     "data": {
      "text/latex": [
       "$\\displaystyle \\left(k \\vee m \\vee n\\right) \\wedge \\left(l \\vee \\neg k \\vee \\neg n\\right) \\wedge \\left(l \\vee \\neg m \\vee \\neg n\\right) \\wedge \\left(n \\vee \\neg k \\vee \\neg l\\right)$"
      ],
      "text/plain": [
       "(k | m | n) & (l | ~k | ~n) & (l | ~m | ~n) & (n | ~k | ~l)"
      ]
     },
     "execution_count": 4,
     "metadata": {},
     "output_type": "execute_result"
    }
   ],
   "source": [
    "sympy.to_cnf(expr, simplify=True)"
   ]
  },
  {
   "cell_type": "code",
   "execution_count": 5,
   "id": "181730252b271f34",
   "metadata": {
    "ExecuteTime": {
     "end_time": "2023-10-13T09:40:13.160780Z",
     "start_time": "2023-10-13T09:40:13.157643Z"
    },
    "collapsed": false
   },
   "outputs": [],
   "source": [
    "k, m, n, l = sympy.symbols('k,m,n,l')"
   ]
  },
  {
   "cell_type": "code",
   "execution_count": 6,
   "id": "f14f0a9030c1f80d",
   "metadata": {
    "ExecuteTime": {
     "end_time": "2023-10-13T09:41:20.919931Z",
     "start_time": "2023-10-13T09:41:20.915193Z"
    },
    "collapsed": false
   },
   "outputs": [],
   "source": [
    "expr = (~k | ~m | n) & (~k | m) & (l | ~m | ~n) & (~k | l | m) & (m | n)"
   ]
  },
  {
   "cell_type": "code",
   "execution_count": 7,
   "id": "3fdbd38f8081e827",
   "metadata": {
    "ExecuteTime": {
     "end_time": "2023-10-13T09:48:13.299398Z",
     "start_time": "2023-10-13T09:48:13.296818Z"
    },
    "collapsed": false
   },
   "outputs": [
    {
     "data": {
      "text/latex": [
       "$\\displaystyle \\left(l \\wedge m \\wedge n\\right) \\vee \\left(m \\wedge \\neg k \\wedge \\neg n\\right) \\vee \\left(n \\wedge \\neg k \\wedge \\neg m\\right)$"
      ],
      "text/plain": [
       "(l & m & n) | (m & ~k & ~n) | (n & ~k & ~m)"
      ]
     },
     "execution_count": 7,
     "metadata": {},
     "output_type": "execute_result"
    }
   ],
   "source": [
    "sympy.to_dnf(expr, simplify=True)"
   ]
  },
  {
   "cell_type": "code",
   "execution_count": 8,
   "id": "c22dd957f2f6b190",
   "metadata": {
    "ExecuteTime": {
     "end_time": "2023-10-13T10:13:05.092744Z",
     "start_time": "2023-10-13T10:13:05.085754Z"
    },
    "collapsed": false
   },
   "outputs": [],
   "source": [
    "expr = k & n & ~l | k & ~m & n | k & m & l | ~k & ~n & l"
   ]
  },
  {
   "cell_type": "code",
   "execution_count": 9,
   "id": "cc91ec4d3b9fabe2",
   "metadata": {
    "ExecuteTime": {
     "end_time": "2023-10-13T10:13:22.765943Z",
     "start_time": "2023-10-13T10:13:22.763864Z"
    },
    "collapsed": false
   },
   "outputs": [
    {
     "data": {
      "text/latex": [
       "$\\displaystyle \\left(k \\wedge n\\right) \\vee \\left(l \\wedge m \\wedge \\neg n\\right) \\vee \\left(l \\wedge \\neg k \\wedge \\neg n\\right)$"
      ],
      "text/plain": [
       "(k & n) | (l & m & ~n) | (l & ~k & ~n)"
      ]
     },
     "execution_count": 9,
     "metadata": {},
     "output_type": "execute_result"
    }
   ],
   "source": [
    "sympy.to_dnf(expr, simplify=True)"
   ]
  },
  {
   "cell_type": "code",
   "execution_count": 10,
   "id": "42c9c60afb771a04",
   "metadata": {
    "ExecuteTime": {
     "end_time": "2023-10-13T10:26:56.851808Z",
     "start_time": "2023-10-13T10:26:56.845306Z"
    },
    "collapsed": false
   },
   "outputs": [],
   "source": [
    "expr = (k | l | m) & (~k | ~l | ~n) & (~k | ~l | ~m) & (k | l | n)"
   ]
  },
  {
   "cell_type": "code",
   "execution_count": 11,
   "id": "37b6b01ce8caf523",
   "metadata": {
    "ExecuteTime": {
     "end_time": "2023-10-13T10:27:06.988469Z",
     "start_time": "2023-10-13T10:27:06.983566Z"
    },
    "collapsed": false
   },
   "outputs": [
    {
     "data": {
      "text/latex": [
       "$\\displaystyle \\left(k \\wedge \\neg l\\right) \\vee \\left(l \\wedge \\neg k\\right) \\vee \\left(l \\wedge \\neg m \\wedge \\neg n\\right) \\vee \\left(m \\wedge n \\wedge \\neg k\\right)$"
      ],
      "text/plain": [
       "(k & ~l) | (l & ~k) | (m & n & ~k) | (l & ~m & ~n)"
      ]
     },
     "execution_count": 11,
     "metadata": {},
     "output_type": "execute_result"
    }
   ],
   "source": [
    "sympy.to_dnf(expr, simplify=True)"
   ]
  },
  {
   "cell_type": "code",
   "execution_count": 12,
   "id": "85c00dc6d20f0935",
   "metadata": {
    "ExecuteTime": {
     "end_time": "2023-10-13T10:34:13.824364Z",
     "start_time": "2023-10-13T10:34:13.817841Z"
    },
    "collapsed": false
   },
   "outputs": [],
   "source": [
    "expr = k & ~m | ~k & m | k & ~n & ~l | ~k & n & l"
   ]
  },
  {
   "cell_type": "code",
   "execution_count": 13,
   "id": "87b2302c6623119b",
   "metadata": {
    "ExecuteTime": {
     "end_time": "2023-10-13T10:34:23.137083Z",
     "start_time": "2023-10-13T10:34:23.133096Z"
    },
    "collapsed": false
   },
   "outputs": [
    {
     "data": {
      "text/latex": [
       "$\\displaystyle \\left(k \\wedge \\neg m\\right) \\vee \\left(m \\wedge \\neg k\\right) \\vee \\left(l \\wedge n \\wedge \\neg k\\right) \\vee \\left(m \\wedge \\neg l \\wedge \\neg n\\right)$"
      ],
      "text/plain": [
       "(k & ~m) | (m & ~k) | (l & n & ~k) | (m & ~l & ~n)"
      ]
     },
     "execution_count": 13,
     "metadata": {},
     "output_type": "execute_result"
    }
   ],
   "source": [
    "sympy.to_dnf(expr, simplify=True)"
   ]
  },
  {
   "cell_type": "code",
   "execution_count": 14,
   "id": "8013b2cc3507d920",
   "metadata": {
    "ExecuteTime": {
     "end_time": "2023-10-13T11:21:09.570499Z",
     "start_time": "2023-10-13T11:21:09.552732Z"
    },
    "collapsed": false
   },
   "outputs": [],
   "source": [
    "a, b, c, d = sympy.symbols('a,b,c,d')"
   ]
  },
  {
   "cell_type": "code",
   "execution_count": 15,
   "id": "334a3e3ce7afb427",
   "metadata": {
    "ExecuteTime": {
     "end_time": "2023-10-13T11:22:14.422895Z",
     "start_time": "2023-10-13T11:22:14.412479Z"
    },
    "collapsed": false
   },
   "outputs": [],
   "source": [
    "expr = ~a & ~c & ~d | b & ~c & d | a & ~b & ~c | ~a & b & c"
   ]
  },
  {
   "cell_type": "code",
   "execution_count": 16,
   "id": "9dd1a9d86784ed8e",
   "metadata": {
    "ExecuteTime": {
     "end_time": "2023-10-13T11:22:27.766524Z",
     "start_time": "2023-10-13T11:22:27.750362Z"
    },
    "collapsed": false
   },
   "outputs": [
    {
     "data": {
      "text/latex": [
       "$\\displaystyle \\left(b \\wedge \\neg a\\right) \\vee \\left(a \\wedge d \\wedge \\neg c\\right) \\vee \\left(\\neg b \\wedge \\neg c \\wedge \\neg d\\right)$"
      ],
      "text/plain": [
       "(b & ~a) | (a & d & ~c) | (~b & ~c & ~d)"
      ]
     },
     "execution_count": 16,
     "metadata": {},
     "output_type": "execute_result"
    }
   ],
   "source": [
    "sympy.to_dnf(expr, simplify=True)"
   ]
  },
  {
   "cell_type": "code",
   "execution_count": 17,
   "id": "4c0d8b83b41f5706",
   "metadata": {
    "ExecuteTime": {
     "end_time": "2023-10-13T11:27:24.951709Z",
     "start_time": "2023-10-13T11:27:24.943046Z"
    },
    "collapsed": false
   },
   "outputs": [],
   "source": [
    "expr = ~a & ~c & ~d | b & ~c & d | a & ~b & ~c | ~a & b & c"
   ]
  },
  {
   "cell_type": "code",
   "execution_count": 18,
   "id": "d0a47e862fe13c81",
   "metadata": {
    "ExecuteTime": {
     "end_time": "2023-10-13T11:27:35.852729Z",
     "start_time": "2023-10-13T11:27:35.838228Z"
    },
    "collapsed": false
   },
   "outputs": [
    {
     "data": {
      "text/latex": [
       "$\\displaystyle \\left(b \\wedge \\neg a\\right) \\vee \\left(a \\wedge d \\wedge \\neg c\\right) \\vee \\left(\\neg b \\wedge \\neg c \\wedge \\neg d\\right)$"
      ],
      "text/plain": [
       "(b & ~a) | (a & d & ~c) | (~b & ~c & ~d)"
      ]
     },
     "execution_count": 18,
     "metadata": {},
     "output_type": "execute_result"
    }
   ],
   "source": [
    "sympy.to_dnf(expr, simplify=True)"
   ]
  },
  {
   "cell_type": "code",
   "execution_count": null,
   "id": "b5f70de17180253b",
   "metadata": {
    "collapsed": false
   },
   "outputs": [],
   "source": []
  },
  {
   "cell_type": "code",
   "execution_count": null,
   "id": "337b455d",
   "metadata": {},
   "outputs": [],
   "source": []
  },
  {
   "cell_type": "code",
   "execution_count": null,
   "id": "7ce470d3",
   "metadata": {},
   "outputs": [],
   "source": []
  },
  {
   "cell_type": "code",
   "execution_count": null,
   "id": "ec30b877",
   "metadata": {},
   "outputs": [],
   "source": []
  }
 ],
 "metadata": {
  "kernelspec": {
   "display_name": "Python 3",
   "language": "python",
   "name": "python3"
  },
  "language_info": {
   "codemirror_mode": {
    "name": "ipython",
    "version": 3
   },
   "file_extension": ".py",
   "mimetype": "text/x-python",
   "name": "python",
   "nbconvert_exporter": "python",
   "pygments_lexer": "ipython3",
   "version": "3.11.4"
  }
 },
 "nbformat": 4,
 "nbformat_minor": 5
}
